{
 "cells": [
  {
   "cell_type": "code",
   "execution_count": 2,
   "id": "aabe5484-7321-49e9-804e-8955f8c1f84e",
   "metadata": {},
   "outputs": [],
   "source": [
    "import sys\n",
    "import pandas as pd\n",
    "import json"
   ]
  },
  {
   "cell_type": "code",
   "execution_count": 3,
   "id": "42f90cfe-68d6-46de-b6f5-2b24c4b93e1a",
   "metadata": {},
   "outputs": [
    {
     "data": {
      "text/plain": [
       "'c:\\\\Users\\\\grego\\\\Documents\\\\GitHub\\\\table_reader\\\\.venv'"
      ]
     },
     "execution_count": 3,
     "metadata": {},
     "output_type": "execute_result"
    }
   ],
   "source": [
    "sys.prefix"
   ]
  },
  {
   "cell_type": "code",
   "execution_count": 7,
   "id": "0d2e7dd8-2a4f-4853-9a1a-96524d48ae81",
   "metadata": {},
   "outputs": [
    {
     "name": "stdout",
     "output_type": "stream",
     "text": [
      "{\n",
      "    \"Pos\": [\"1\", \"2\", \"3\", \"4\", \"5\", \"6\", \"7\", \"8\", \"9\", \"10\"],\n",
      "    \"Player\": [\"Sachin Tendular\", \"Kumar Sangakkara\", \"Ricky Ponting\", \"Sanath Jayasuriya\", \"Mahela Jayawardene\", \"Virat Kohli\", \"Inzamam -ul-Haq\", \"Jacques Kalis\", \"Saurav Ganguly\", \"Rahul Dravid\"],\n",
      "    \"Team\": [\"India\", \"Sri Lanka\", \"Australia\", \"Sri Lanka\", \"Sri Lanka\", \"India\", \"Pakistan\", \"South Africa\", \"India\", \"India\"],\n",
      "    \"Span\": [\"1989 -2012\", \"2000 -2015\", \"1995 -2012\", \"1989 -2011\", \"1998-2015\", \"2008 -2020\", \"1991 -200\", \"1996 -2014\", \"1992 -2007\", \"1996 -2011\"],\n",
      "    \"Innings\": [\"452\", \"380\", \"365\", \"433\", \"418\", \"236\", \"350\", \"314\", \"300\", \"318\"],\n",
      "    \"Runs\": [\"18426\", \"14234\", \"13704\", \"13430\", \"12650\", \"11867\", \"11739\", \"11579\", \"11363\", \"10889\"],\n",
      "    \"Highest Score\": [\"200\", \"169\", \"164\", \"189\", \"144\", \"183\", \"137\", \"139\", \"183\", \"153\"],\n",
      "    \"Average\": [\"44.83\", \"41.98\", \"42.03\", \"32.36\", \"33.37\", \"59.85\", \"39.52\", \"44.36\", \"41.02\", \"39.16\"],\n",
      "    \"Striking Rate\": [\"86.23\", \"78.86\", \"80.39\", \"91.2\", \"78.96\", \"93.39\", \"74.24\", \"72.89\", \"73.7\", \"71.24\"]\n",
      "}\n"
     ]
    }
   ],
   "source": [
    "\n",
    "with open('Test.json') as f:\n",
    "    d = json.load(f)\n",
    "    print(d)\n",
    "\n"
   ]
  },
  {
   "cell_type": "code",
   "execution_count": 11,
   "id": "7a2dd2ab",
   "metadata": {},
   "outputs": [
    {
     "name": "stdout",
     "output_type": "stream",
     "text": [
      "   Pos              Player          Team        Span  Innings   Runs  \\\n",
      "0    1     Sachin Tendular         India  1989 -2012      452  18426   \n",
      "1    2    Kumar Sangakkara     Sri Lanka  2000 -2015      380  14234   \n",
      "2    3       Ricky Ponting     Australia  1995 -2012      365  13704   \n",
      "3    4   Sanath Jayasuriya     Sri Lanka  1989 -2011      433  13430   \n",
      "4    5  Mahela Jayawardene     Sri Lanka   1998-2015      418  12650   \n",
      "5    6         Virat Kohli         India  2008 -2020      236  11867   \n",
      "6    7     Inzamam -ul-Haq      Pakistan   1991 -200      350  11739   \n",
      "7    8       Jacques Kalis  South Africa  1996 -2014      314  11579   \n",
      "8    9      Saurav Ganguly         India  1992 -2007      300  11363   \n",
      "9   10        Rahul Dravid         India  1996 -2011      318  10889   \n",
      "\n",
      "   Highest Score  Average  Striking Rate  \n",
      "0            200    44.83          86.23  \n",
      "1            169    41.98          78.86  \n",
      "2            164    42.03          80.39  \n",
      "3            189    32.36          91.20  \n",
      "4            144    33.37          78.96  \n",
      "5            183    59.85          93.39  \n",
      "6            137    39.52          74.24  \n",
      "7            139    44.36          72.89  \n",
      "8            183    41.02          73.70  \n",
      "9            153    39.16          71.24  \n"
     ]
    },
    {
     "name": "stderr",
     "output_type": "stream",
     "text": [
      "C:\\Users\\grego\\AppData\\Local\\Temp\\ipykernel_22640\\3568963507.py:1: FutureWarning: Passing literal json to 'read_json' is deprecated and will be removed in a future version. To read from a literal string, wrap it in a 'StringIO' object.\n",
      "  df = pd. read_json(d)\n"
     ]
    }
   ],
   "source": [
    "df = pd. read_json(d)\n",
    "print(df)"
   ]
  },
  {
   "cell_type": "code",
   "execution_count": 12,
   "id": "de7e9216",
   "metadata": {},
   "outputs": [
    {
     "data": {
      "text/html": [
       "<div>\n",
       "<style scoped>\n",
       "    .dataframe tbody tr th:only-of-type {\n",
       "        vertical-align: middle;\n",
       "    }\n",
       "\n",
       "    .dataframe tbody tr th {\n",
       "        vertical-align: top;\n",
       "    }\n",
       "\n",
       "    .dataframe thead th {\n",
       "        text-align: right;\n",
       "    }\n",
       "</style>\n",
       "<table border=\"1\" class=\"dataframe\">\n",
       "  <thead>\n",
       "    <tr style=\"text-align: right;\">\n",
       "      <th></th>\n",
       "      <th>Pos</th>\n",
       "      <th>Player</th>\n",
       "      <th>Team</th>\n",
       "      <th>Span</th>\n",
       "      <th>Innings</th>\n",
       "      <th>Runs</th>\n",
       "      <th>Highest Score</th>\n",
       "      <th>Average</th>\n",
       "      <th>Striking Rate</th>\n",
       "    </tr>\n",
       "  </thead>\n",
       "  <tbody>\n",
       "    <tr>\n",
       "      <th>0</th>\n",
       "      <td>1</td>\n",
       "      <td>Sachin Tendular</td>\n",
       "      <td>India</td>\n",
       "      <td>1989 -2012</td>\n",
       "      <td>452</td>\n",
       "      <td>18426</td>\n",
       "      <td>200</td>\n",
       "      <td>44.83</td>\n",
       "      <td>86.23</td>\n",
       "    </tr>\n",
       "    <tr>\n",
       "      <th>1</th>\n",
       "      <td>2</td>\n",
       "      <td>Kumar Sangakkara</td>\n",
       "      <td>Sri Lanka</td>\n",
       "      <td>2000 -2015</td>\n",
       "      <td>380</td>\n",
       "      <td>14234</td>\n",
       "      <td>169</td>\n",
       "      <td>41.98</td>\n",
       "      <td>78.86</td>\n",
       "    </tr>\n",
       "    <tr>\n",
       "      <th>2</th>\n",
       "      <td>3</td>\n",
       "      <td>Ricky Ponting</td>\n",
       "      <td>Australia</td>\n",
       "      <td>1995 -2012</td>\n",
       "      <td>365</td>\n",
       "      <td>13704</td>\n",
       "      <td>164</td>\n",
       "      <td>42.03</td>\n",
       "      <td>80.39</td>\n",
       "    </tr>\n",
       "    <tr>\n",
       "      <th>3</th>\n",
       "      <td>4</td>\n",
       "      <td>Sanath Jayasuriya</td>\n",
       "      <td>Sri Lanka</td>\n",
       "      <td>1989 -2011</td>\n",
       "      <td>433</td>\n",
       "      <td>13430</td>\n",
       "      <td>189</td>\n",
       "      <td>32.36</td>\n",
       "      <td>91.20</td>\n",
       "    </tr>\n",
       "    <tr>\n",
       "      <th>4</th>\n",
       "      <td>5</td>\n",
       "      <td>Mahela Jayawardene</td>\n",
       "      <td>Sri Lanka</td>\n",
       "      <td>1998-2015</td>\n",
       "      <td>418</td>\n",
       "      <td>12650</td>\n",
       "      <td>144</td>\n",
       "      <td>33.37</td>\n",
       "      <td>78.96</td>\n",
       "    </tr>\n",
       "    <tr>\n",
       "      <th>5</th>\n",
       "      <td>6</td>\n",
       "      <td>Virat Kohli</td>\n",
       "      <td>India</td>\n",
       "      <td>2008 -2020</td>\n",
       "      <td>236</td>\n",
       "      <td>11867</td>\n",
       "      <td>183</td>\n",
       "      <td>59.85</td>\n",
       "      <td>93.39</td>\n",
       "    </tr>\n",
       "    <tr>\n",
       "      <th>6</th>\n",
       "      <td>7</td>\n",
       "      <td>Inzamam -ul-Haq</td>\n",
       "      <td>Pakistan</td>\n",
       "      <td>1991 -200</td>\n",
       "      <td>350</td>\n",
       "      <td>11739</td>\n",
       "      <td>137</td>\n",
       "      <td>39.52</td>\n",
       "      <td>74.24</td>\n",
       "    </tr>\n",
       "    <tr>\n",
       "      <th>7</th>\n",
       "      <td>8</td>\n",
       "      <td>Jacques Kalis</td>\n",
       "      <td>South Africa</td>\n",
       "      <td>1996 -2014</td>\n",
       "      <td>314</td>\n",
       "      <td>11579</td>\n",
       "      <td>139</td>\n",
       "      <td>44.36</td>\n",
       "      <td>72.89</td>\n",
       "    </tr>\n",
       "    <tr>\n",
       "      <th>8</th>\n",
       "      <td>9</td>\n",
       "      <td>Saurav Ganguly</td>\n",
       "      <td>India</td>\n",
       "      <td>1992 -2007</td>\n",
       "      <td>300</td>\n",
       "      <td>11363</td>\n",
       "      <td>183</td>\n",
       "      <td>41.02</td>\n",
       "      <td>73.70</td>\n",
       "    </tr>\n",
       "    <tr>\n",
       "      <th>9</th>\n",
       "      <td>10</td>\n",
       "      <td>Rahul Dravid</td>\n",
       "      <td>India</td>\n",
       "      <td>1996 -2011</td>\n",
       "      <td>318</td>\n",
       "      <td>10889</td>\n",
       "      <td>153</td>\n",
       "      <td>39.16</td>\n",
       "      <td>71.24</td>\n",
       "    </tr>\n",
       "  </tbody>\n",
       "</table>\n",
       "</div>"
      ],
      "text/plain": [
       "   Pos              Player          Team        Span  Innings   Runs  \\\n",
       "0    1     Sachin Tendular         India  1989 -2012      452  18426   \n",
       "1    2    Kumar Sangakkara     Sri Lanka  2000 -2015      380  14234   \n",
       "2    3       Ricky Ponting     Australia  1995 -2012      365  13704   \n",
       "3    4   Sanath Jayasuriya     Sri Lanka  1989 -2011      433  13430   \n",
       "4    5  Mahela Jayawardene     Sri Lanka   1998-2015      418  12650   \n",
       "5    6         Virat Kohli         India  2008 -2020      236  11867   \n",
       "6    7     Inzamam -ul-Haq      Pakistan   1991 -200      350  11739   \n",
       "7    8       Jacques Kalis  South Africa  1996 -2014      314  11579   \n",
       "8    9      Saurav Ganguly         India  1992 -2007      300  11363   \n",
       "9   10        Rahul Dravid         India  1996 -2011      318  10889   \n",
       "\n",
       "   Highest Score  Average  Striking Rate  \n",
       "0            200    44.83          86.23  \n",
       "1            169    41.98          78.86  \n",
       "2            164    42.03          80.39  \n",
       "3            189    32.36          91.20  \n",
       "4            144    33.37          78.96  \n",
       "5            183    59.85          93.39  \n",
       "6            137    39.52          74.24  \n",
       "7            139    44.36          72.89  \n",
       "8            183    41.02          73.70  \n",
       "9            153    39.16          71.24  "
      ]
     },
     "execution_count": 12,
     "metadata": {},
     "output_type": "execute_result"
    }
   ],
   "source": [
    "df"
   ]
  },
  {
   "cell_type": "code",
   "execution_count": 15,
   "id": "715a0317",
   "metadata": {},
   "outputs": [
    {
     "name": "stdout",
     "output_type": "stream",
     "text": [
      "{\n",
      "  \"Table 2-1\": {\n",
      "    \"Cycle Name\": [\"2012_2\", \"2145_1\", \"4234_1\", \"2032_2\", \"4171_1\"],\n",
      "    \"KI (1/km)\": [\"3.30\", \"0.68\", \"0.59\", \"0.17\", \"0.07\"],\n",
      "    \"Distance (mi)\": [\"1.3\", \"11.2\", \"58.7\", \"57.8\", \"173.9\"],\n",
      "    \"Percent Fuel Savings Improved Speed\": [\"5.9%\", \"2.4%\", \"8.5%\", \"21.7%\", \"58.1%\"],\n",
      "    \"Percent Fuel Savings Decreased Accel\": [\"9.5%\", \"0.1%\", \"1.3%\", \"0.3%\", \"1.6%\"],\n",
      "    \"Percent Fuel Savings Eliminate Stops\": [\"29.2%\", \"9.5%\", \"8.5%\", \"2.7%\", \"2.1%\"],\n",
      "    \"Percent Fuel Savings Decreased Idle\": [\"17.4%\", \"2.7%\", \"3.3%\", \"1.2%\", \"0.5%\"]\n",
      "  }\n",
      "}\n"
     ]
    }
   ],
   "source": [
    "with open('foo.json') as f:\n",
    "    d2 = json.load(f)\n",
    "    print(d2)\n"
   ]
  },
  {
   "cell_type": "code",
   "execution_count": 22,
   "id": "aaf486cd",
   "metadata": {},
   "outputs": [
    {
     "name": "stdout",
     "output_type": "stream",
     "text": [
      "                                                                     Table 2-1\n",
      "Cycle Name                            [2012_2, 2145_1, 4234_1, 2032_2, 4171_1]\n",
      "KI (1/km)                                       [3.30, 0.68, 0.59, 0.17, 0.07]\n",
      "Distance (mi)                                   [1.3, 11.2, 58.7, 57.8, 173.9]\n",
      "Percent Fuel Savings Improved Speed           [5.9%, 2.4%, 8.5%, 21.7%, 58.1%]\n",
      "Percent Fuel Savings Decreased Accel            [9.5%, 0.1%, 1.3%, 0.3%, 1.6%]\n",
      "Percent Fuel Savings Eliminate Stops           [29.2%, 9.5%, 8.5%, 2.7%, 2.1%]\n",
      "Percent Fuel Savings Decreased Idle            [17.4%, 2.7%, 3.3%, 1.2%, 0.5%]\n"
     ]
    },
    {
     "name": "stderr",
     "output_type": "stream",
     "text": [
      "C:\\Users\\grego\\AppData\\Local\\Temp\\ipykernel_22640\\1607818910.py:1: FutureWarning: Passing literal json to 'read_json' is deprecated and will be removed in a future version. To read from a literal string, wrap it in a 'StringIO' object.\n",
      "  df = pd.read_json(d2)\n"
     ]
    }
   ],
   "source": [
    "df = pd.read_json(d2)\n",
    "print(df)"
   ]
  },
  {
   "cell_type": "code",
   "execution_count": 21,
   "id": "d2425d5d",
   "metadata": {},
   "outputs": [
    {
     "data": {
      "text/plain": [
       "'{\\n  \"Table 2-1\": {\\n    \"Cycle Name\": [\"2012_2\", \"2145_1\", \"4234_1\", \"2032_2\", \"4171_1\"],\\n    \"KI (1/km)\": [\"3.30\", \"0.68\", \"0.59\", \"0.17\", \"0.07\"],\\n    \"Distance (mi)\": [\"1.3\", \"11.2\", \"58.7\", \"57.8\", \"173.9\"],\\n    \"Percent Fuel Savings Improved Speed\": [\"5.9%\", \"2.4%\", \"8.5%\", \"21.7%\", \"58.1%\"],\\n    \"Percent Fuel Savings Decreased Accel\": [\"9.5%\", \"0.1%\", \"1.3%\", \"0.3%\", \"1.6%\"],\\n    \"Percent Fuel Savings Eliminate Stops\": [\"29.2%\", \"9.5%\", \"8.5%\", \"2.7%\", \"2.1%\"],\\n    \"Percent Fuel Savings Decreased Idle\": [\"17.4%\", \"2.7%\", \"3.3%\", \"1.2%\", \"0.5%\"]\\n  }\\n}'"
      ]
     },
     "execution_count": 21,
     "metadata": {},
     "output_type": "execute_result"
    }
   ],
   "source": [
    "d2 "
   ]
  },
  {
   "cell_type": "code",
   "execution_count": null,
   "id": "cecf9018",
   "metadata": {},
   "outputs": [],
   "source": []
  }
 ],
 "metadata": {
  "kernelspec": {
   "display_name": "Python 3 (ipykernel)",
   "language": "python",
   "name": "python3"
  },
  "language_info": {
   "codemirror_mode": {
    "name": "ipython",
    "version": 3
   },
   "file_extension": ".py",
   "mimetype": "text/x-python",
   "name": "python",
   "nbconvert_exporter": "python",
   "pygments_lexer": "ipython3",
   "version": "3.12.3"
  }
 },
 "nbformat": 4,
 "nbformat_minor": 5
}
